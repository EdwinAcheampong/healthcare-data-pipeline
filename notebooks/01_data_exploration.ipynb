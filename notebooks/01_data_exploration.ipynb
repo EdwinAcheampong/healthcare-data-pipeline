{
  "cells": [
    {
      "cell_type": "markdown",
      "metadata": {},
      "source": [
        "# Healthcare Data Exploration\n",
        "\n",
        "This notebook provides initial exploration of the Synthea COVID-19 dataset and sets up the foundation for data analysis.\n",
        "\n",
        "## Objectives\n",
        "1. Load and examine the Synthea dataset structure\n",
        "2. Perform exploratory data analysis (EDA)\n",
        "3. Identify data quality issues\n",
        "4. Understand patient demographics and healthcare patterns\n",
        "5. Prepare data for further analysis and modeling\n"
      ]
    },
    {
      "cell_type": "code",
      "execution_count": null,
      "metadata": {},
      "outputs": [],
      "source": [
        "# Import required libraries\n",
        "import pandas as pd\n",
        "import numpy as np\n",
        "import matplotlib.pyplot as plt\n",
        "import seaborn as sns\n",
        "from pathlib import Path\n",
        "import warnings\n",
        "warnings.filterwarnings('ignore')\n",
        "\n",
        "# Set up plotting\n",
        "plt.style.use('seaborn-v0_8')\n",
        "sns.set_palette(\"husl\")\n",
        "\n",
        "# Configuration\n",
        "pd.set_option('display.max_columns', None)\n",
        "pd.set_option('display.max_rows', 100)\n"
      ]
    },
    {
      "cell_type": "code",
      "execution_count": null,
      "metadata": {},
      "outputs": [],
      "source": [
        "# Define data paths\n",
        "DATA_PATH = Path('../data/synthea')\n",
        "CCDA_PATH = Path('../data/ccda')\n",
        "PROCESSED_PATH = Path('../data/processed')\n",
        "\n",
        "print(\"Data directories:\")\n",
        "print(f\"Synthea CSV data: {DATA_PATH}\")\n",
        "print(f\"CCDA XML data: {CCDA_PATH}\")\n",
        "print(f\"Processed data: {PROCESSED_PATH}\")\n",
        "\n",
        "# List available CSV files\n",
        "csv_files = list(DATA_PATH.glob('*.csv'))\n",
        "print(f\"\\nAvailable CSV files ({len(csv_files)}):\")\n",
        "for file in csv_files:\n",
        "    print(f\"- {file.name}\")\n",
        "\n",
        "# List available XML files (sample)\n",
        "xml_files = list(CCDA_PATH.glob('*.xml'))\n",
        "print(f\"\\nAvailable XML files: {len(xml_files)} CCDA documents\")\n",
        "if xml_files:\n",
        "    print(\"Sample files:\")\n",
        "    for file in xml_files[:3]:  # Show first 3\n",
        "        print(f\"- {file.name}\")\n",
        "    if len(xml_files) > 3:\n",
        "        print(f\"... and {len(xml_files) - 3} more\")\n"
      ]
    },
    {
      "cell_type": "code",
      "execution_count": null,
      "metadata": {},
      "outputs": [],
      "source": [
        "# Load the main datasets\n",
        "patients = pd.read_csv(DATA_PATH / 'patients.csv')\n",
        "conditions = pd.read_csv(DATA_PATH / 'conditions.csv')\n",
        "encounters = pd.read_csv(DATA_PATH / 'encounters.csv')\n",
        "observations = pd.read_csv(DATA_PATH / 'observations.csv')\n",
        "medications = pd.read_csv(DATA_PATH / 'medications.csv')\n",
        "procedures = pd.read_csv(DATA_PATH / 'procedures.csv')\n",
        "organizations = pd.read_csv(DATA_PATH / 'organizations.csv')\n",
        "\n",
        "print(\"Dataset shapes:\")\n",
        "print(f\"Patients: {patients.shape}\")\n",
        "print(f\"Conditions: {conditions.shape}\")\n",
        "print(f\"Encounters: {encounters.shape}\")\n",
        "print(f\"Observations: {observations.shape}\")\n",
        "print(f\"Medications: {medications.shape}\")\n",
        "print(f\"Procedures: {procedures.shape}\")\n",
        "print(f\"Organizations: {organizations.shape}\")\n",
        "\n",
        "# Quick memory usage check\n",
        "total_memory = (patients.memory_usage(deep=True).sum() + \n",
        "                conditions.memory_usage(deep=True).sum() + \n",
        "                encounters.memory_usage(deep=True).sum() + \n",
        "                observations.memory_usage(deep=True).sum() + \n",
        "                medications.memory_usage(deep=True).sum()) / 1024**2\n",
        "print(f\"\\nTotal memory usage: {total_memory:.2f} MB\")\n"
      ]
    }
  ],
  "metadata": {
    "language_info": {
      "name": "python"
    }
  },
  "nbformat": 4,
  "nbformat_minor": 2
}
